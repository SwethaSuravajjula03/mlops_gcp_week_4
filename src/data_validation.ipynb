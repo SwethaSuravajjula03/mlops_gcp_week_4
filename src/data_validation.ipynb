{
 "cells": [
  {
   "cell_type": "code",
   "execution_count": null,
   "id": "b7914cfd-3442-4899-a11b-2f4030e4396e",
   "metadata": {},
   "outputs": [],
   "source": [
    "import pandas as pd\n",
    "\n",
    "def load_data(path: str) -> pd.DataFrame:\n",
    "    return pd.read_csv(path)\n",
    "\n",
    "def validate_schema(df: pd.DataFrame) -> bool:\n",
    "    # Expecting exactly 4 feature cols + 1 target col\n",
    "    expected = ['sepal_length','sepal_width','petal_length','petal_width','species']\n",
    "    return list(df.columns) == expected\n",
    "\n",
    "def validate_no_nulls(df: pd.DataFrame) -> bool:\n",
    "    return not df.isnull().values.any()\n"
   ]
  }
 ],
 "metadata": {
  "environment": {
   "kernel": "conda-base-py",
   "name": "workbench-notebooks.m130",
   "type": "gcloud",
   "uri": "us-docker.pkg.dev/deeplearning-platform-release/gcr.io/workbench-notebooks:m130"
  },
  "kernelspec": {
   "display_name": "Python 3 (ipykernel) (Local)",
   "language": "python",
   "name": "conda-base-py"
  },
  "language_info": {
   "codemirror_mode": {
    "name": "ipython",
    "version": 3
   },
   "file_extension": ".py",
   "mimetype": "text/x-python",
   "name": "python",
   "nbconvert_exporter": "python",
   "pygments_lexer": "ipython3",
   "version": "3.10.18"
  }
 },
 "nbformat": 4,
 "nbformat_minor": 5
}
